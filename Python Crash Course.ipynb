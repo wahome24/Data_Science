{
 "cells": [
  {
   "cell_type": "code",
   "execution_count": 1,
   "id": "35f93316",
   "metadata": {},
   "outputs": [
    {
     "name": "stdout",
     "output_type": "stream",
     "text": [
      "2023-09-27 16:57:17.259590\n"
     ]
    }
   ],
   "source": [
    "from datetime import datetime\n",
    "print(datetime.now())"
   ]
  },
  {
   "cell_type": "code",
   "execution_count": 2,
   "id": "83a2e924",
   "metadata": {},
   "outputs": [
    {
     "name": "stdout",
     "output_type": "stream",
     "text": [
      "2023\n"
     ]
    }
   ],
   "source": [
    "test = datetime.now()\n",
    "print(test.year)"
   ]
  },
  {
   "cell_type": "code",
   "execution_count": 3,
   "id": "adcd4f1a",
   "metadata": {},
   "outputs": [
    {
     "data": {
      "text/plain": [
       "4"
      ]
     },
     "execution_count": 3,
     "metadata": {},
     "output_type": "execute_result"
    }
   ],
   "source": [
    "1*4"
   ]
  },
  {
   "cell_type": "code",
   "execution_count": 4,
   "id": "e325ad79",
   "metadata": {},
   "outputs": [
    {
     "data": {
      "text/plain": [
       "1"
      ]
     },
     "execution_count": 4,
     "metadata": {},
     "output_type": "execute_result"
    }
   ],
   "source": [
    "5%2"
   ]
  },
  {
   "cell_type": "code",
   "execution_count": 5,
   "id": "d9aec190",
   "metadata": {},
   "outputs": [
    {
     "name": "stdout",
     "output_type": "stream",
     "text": [
      "<class 'float'>\n"
     ]
    }
   ],
   "source": [
    "print(type(3.6))"
   ]
  },
  {
   "cell_type": "code",
   "execution_count": 6,
   "id": "ef38ee26",
   "metadata": {},
   "outputs": [
    {
     "data": {
      "text/plain": [
       "4"
      ]
     },
     "execution_count": 6,
     "metadata": {},
     "output_type": "execute_result"
    }
   ],
   "source": [
    "2**2"
   ]
  },
  {
   "cell_type": "code",
   "execution_count": 7,
   "id": "56ffb629",
   "metadata": {},
   "outputs": [
    {
     "data": {
      "text/plain": [
       "8"
      ]
     },
     "execution_count": 7,
     "metadata": {},
     "output_type": "execute_result"
    }
   ],
   "source": [
    "2**3"
   ]
  },
  {
   "cell_type": "code",
   "execution_count": 8,
   "id": "3d484414",
   "metadata": {},
   "outputs": [
    {
     "name": "stdout",
     "output_type": "stream",
     "text": [
      "Enter your name here: Erastus\n"
     ]
    },
    {
     "data": {
      "text/plain": [
       "'Erastus'"
      ]
     },
     "execution_count": 8,
     "metadata": {},
     "output_type": "execute_result"
    }
   ],
   "source": [
    "input('Enter your name here: ')"
   ]
  },
  {
   "cell_type": "code",
   "execution_count": 9,
   "id": "8265ae6d",
   "metadata": {},
   "outputs": [
    {
     "name": "stdout",
     "output_type": "stream",
     "text": [
      "Ras\n"
     ]
    }
   ],
   "source": [
    "print('Ras')"
   ]
  },
  {
   "cell_type": "code",
   "execution_count": 10,
   "id": "dd98750a",
   "metadata": {},
   "outputs": [],
   "source": [
    "Year = 2023\n",
    "Name = \"Erastus\""
   ]
  },
  {
   "cell_type": "code",
   "execution_count": 11,
   "id": "beb76200",
   "metadata": {},
   "outputs": [
    {
     "name": "stdout",
     "output_type": "stream",
     "text": [
      "My name is Erastus and we are currently in year 2023\n"
     ]
    }
   ],
   "source": [
    "print('My name is {} and we are currently in year {}'.format(Name,Year))"
   ]
  },
  {
   "cell_type": "code",
   "execution_count": 14,
   "id": "7d0326ac",
   "metadata": {},
   "outputs": [
    {
     "name": "stdout",
     "output_type": "stream",
     "text": [
      "Wah\n"
     ]
    }
   ],
   "source": [
    "testy = 'Wahome'\n",
    "print(testy[:3])"
   ]
  },
  {
   "cell_type": "code",
   "execution_count": 15,
   "id": "e21beace",
   "metadata": {},
   "outputs": [
    {
     "name": "stdout",
     "output_type": "stream",
     "text": [
      "[1, 2, 3, 6, 8]\n"
     ]
    }
   ],
   "source": [
    "ras = [1,2,3,6,8]\n",
    "print(ras)"
   ]
  },
  {
   "cell_type": "code",
   "execution_count": 16,
   "id": "74664092",
   "metadata": {},
   "outputs": [
    {
     "name": "stdout",
     "output_type": "stream",
     "text": [
      "[1, 2, 3, 6, 8, 20]\n"
     ]
    }
   ],
   "source": [
    "ras.append(20)\n",
    "print(ras)"
   ]
  },
  {
   "cell_type": "code",
   "execution_count": 17,
   "id": "fd186949",
   "metadata": {},
   "outputs": [
    {
     "name": "stdout",
     "output_type": "stream",
     "text": [
      "[10, 2, 3, 6, 8, 20]\n"
     ]
    }
   ],
   "source": [
    "ras[0]=10\n",
    "print(ras)"
   ]
  },
  {
   "cell_type": "code",
   "execution_count": 10,
   "id": "a8d9954d",
   "metadata": {},
   "outputs": [
    {
     "name": "stdout",
     "output_type": "stream",
     "text": [
      "dict_keys(['Name', 'Age', 'Uni', 'list'])\n",
      "dict_values(['Erastus', 23, 'Edinburg', [1, 4, 5]])\n"
     ]
    }
   ],
   "source": [
    "#creating Dictionaries\n",
    "D1 = {'Name':'Erastus','Age':23,'Uni':'Edinburg','list':[1,4,5]}\n",
    "D1['Name']\n",
    "print(D1.keys())\n",
    "print(D1.values())"
   ]
  },
  {
   "cell_type": "code",
   "execution_count": 19,
   "id": "40b1bead",
   "metadata": {},
   "outputs": [
    {
     "data": {
      "text/plain": [
       "4"
      ]
     },
     "execution_count": 19,
     "metadata": {},
     "output_type": "execute_result"
    }
   ],
   "source": [
    "D1['list'][1]"
   ]
  },
  {
   "cell_type": "code",
   "execution_count": 20,
   "id": "7f1eeeb1",
   "metadata": {},
   "outputs": [
    {
     "data": {
      "text/plain": [
       "23"
      ]
     },
     "execution_count": 20,
     "metadata": {},
     "output_type": "execute_result"
    }
   ],
   "source": [
    "D1['Age']"
   ]
  },
  {
   "cell_type": "code",
   "execution_count": 21,
   "id": "4f10d316",
   "metadata": {},
   "outputs": [
    {
     "data": {
      "text/plain": [
       "False"
      ]
     },
     "execution_count": 21,
     "metadata": {},
     "output_type": "execute_result"
    }
   ],
   "source": [
    "50<2"
   ]
  },
  {
   "cell_type": "code",
   "execution_count": 22,
   "id": "73c5e457",
   "metadata": {},
   "outputs": [
    {
     "data": {
      "text/plain": [
       "False"
      ]
     },
     "execution_count": 22,
     "metadata": {},
     "output_type": "execute_result"
    }
   ],
   "source": [
    "67>89"
   ]
  },
  {
   "cell_type": "code",
   "execution_count": 23,
   "id": "7a6f424e",
   "metadata": {},
   "outputs": [
    {
     "data": {
      "text/plain": [
       "True"
      ]
     },
     "execution_count": 23,
     "metadata": {},
     "output_type": "execute_result"
    }
   ],
   "source": [
    "5<9"
   ]
  },
  {
   "cell_type": "code",
   "execution_count": 26,
   "id": "394c2bb3",
   "metadata": {},
   "outputs": [
    {
     "data": {
      "text/plain": [
       "True"
      ]
     },
     "execution_count": 26,
     "metadata": {},
     "output_type": "execute_result"
    }
   ],
   "source": [
    "34>3 or 3>9"
   ]
  },
  {
   "cell_type": "code",
   "execution_count": 32,
   "id": "099ee36b",
   "metadata": {},
   "outputs": [],
   "source": [
    "t = (1,3,6)"
   ]
  },
  {
   "cell_type": "code",
   "execution_count": 29,
   "id": "e600eaab",
   "metadata": {},
   "outputs": [
    {
     "name": "stdout",
     "output_type": "stream",
     "text": [
      "(1, 3, 6)\n"
     ]
    }
   ],
   "source": [
    "print(t)"
   ]
  },
  {
   "cell_type": "code",
   "execution_count": 35,
   "id": "316b2e72",
   "metadata": {},
   "outputs": [
    {
     "name": "stdout",
     "output_type": "stream",
     "text": [
      "[45, 23, 32, 23, 45, 34, 32]\n",
      "{32, 34, 45, 23}\n"
     ]
    }
   ],
   "source": [
    "myList = [45,23,32,23,45,34,32]\n",
    "myList2 = set(myList)\n",
    "print(myList)\n",
    "print(myList2)"
   ]
  },
  {
   "cell_type": "code",
   "execution_count": 38,
   "id": "4d387910",
   "metadata": {},
   "outputs": [
    {
     "name": "stdout",
     "output_type": "stream",
     "text": [
      "oops\n"
     ]
    }
   ],
   "source": [
    "if 2>3:\n",
    "    print('Yay')\n",
    "else:\n",
    "    print('oops')"
   ]
  },
  {
   "cell_type": "code",
   "execution_count": 44,
   "id": "d31ce242",
   "metadata": {},
   "outputs": [
    {
     "name": "stdout",
     "output_type": "stream",
     "text": [
      "Enter your name: Derano\n",
      "Which year were you born? 0\n",
      "Kindy input valid year!\n"
     ]
    }
   ],
   "source": [
    "#Simple Control Flow Program that calculates current user age\n",
    "username = input(\"Enter your name: \")\n",
    "YOB = int(input('Which year were you born? '))\n",
    "if YOB != 0:\n",
    "    age = 2023 - YOB\n",
    "    print(\"Hello {}, your current age is {}!\".format(username,age))\n",
    "else:\n",
    "    print('Kindy input valid year!')"
   ]
  },
  {
   "cell_type": "code",
   "execution_count": 41,
   "id": "8e3a6003",
   "metadata": {},
   "outputs": [
    {
     "data": {
      "text/plain": [
       "True"
      ]
     },
     "execution_count": 41,
     "metadata": {},
     "output_type": "execute_result"
    }
   ],
   "source": [
    "a = 5\n",
    "type(a) == int"
   ]
  },
  {
   "cell_type": "code",
   "execution_count": 5,
   "id": "d03c714d",
   "metadata": {},
   "outputs": [
    {
     "name": "stdout",
     "output_type": "stream",
     "text": [
      "1\n",
      "2\n",
      "3\n",
      "4\n",
      "5\n",
      "6\n",
      "7\n",
      "8\n",
      "9\n"
     ]
    }
   ],
   "source": [
    "for x in range(1,10):\n",
    "    print(x)"
   ]
  },
  {
   "cell_type": "code",
   "execution_count": 3,
   "id": "1234ca49",
   "metadata": {},
   "outputs": [
    {
     "name": "stdout",
     "output_type": "stream",
     "text": [
      "2\n",
      "6\n",
      "10\n",
      "12\n",
      "18\n",
      "38\n",
      "60\n"
     ]
    }
   ],
   "source": [
    "seq = [1,3,5,6,9,19,30]\n",
    "\n",
    "for num in seq:\n",
    "    print(num*2)"
   ]
  },
  {
   "cell_type": "code",
   "execution_count": 4,
   "id": "4a4032b8",
   "metadata": {},
   "outputs": [
    {
     "name": "stdout",
     "output_type": "stream",
     "text": [
      "i is 1\n",
      "i is 2\n",
      "i is 3\n",
      "i is 4\n",
      "i is 5\n",
      "i is 6\n",
      "i is 7\n",
      "i is 8\n",
      "i is 9\n"
     ]
    }
   ],
   "source": [
    "i = 1\n",
    "\n",
    "while i < 10:\n",
    "    print('i is {}'.format(i))\n",
    "    i = i+1"
   ]
  },
  {
   "cell_type": "code",
   "execution_count": 7,
   "id": "01e095bd",
   "metadata": {},
   "outputs": [
    {
     "name": "stdout",
     "output_type": "stream",
     "text": [
      "[1, 4, 6, 8, 9, 2]\n",
      "[2, 8, 12, 16, 18, 4]\n"
     ]
    }
   ],
   "source": [
    "#Using for loop to create a list\n",
    "var = [1,4,6,8,9,2]\n",
    "out = []\n",
    "\n",
    "for num in var:\n",
    "    out.append(num*2)\n",
    "    \n",
    "print(var)\n",
    "print(out)"
   ]
  },
  {
   "cell_type": "code",
   "execution_count": 10,
   "id": "51d4684f",
   "metadata": {},
   "outputs": [
    {
     "name": "stdout",
     "output_type": "stream",
     "text": [
      "[2, 3, 4, 5, 6, 7, 8, 9, 10, 11]\n",
      "[2, 8, 12, 16, 18, 4]\n"
     ]
    }
   ],
   "source": [
    "#List comprehesion\n",
    "\n",
    "var2 = [x+1 for x in range(1,11)]\n",
    "print(var2)\n",
    "var3 = [num*2 for num in var]\n",
    "print(var3)"
   ]
  },
  {
   "cell_type": "code",
   "execution_count": 12,
   "id": "441378bb",
   "metadata": {},
   "outputs": [
    {
     "name": "stdout",
     "output_type": "stream",
     "text": [
      "Hello Wahome\n"
     ]
    }
   ],
   "source": [
    "#Create Functions\n",
    "def calc(name='Erastus'):\n",
    "    print('Hello {}'.format(name))\n",
    "    \n",
    "calc('Wahome')"
   ]
  },
  {
   "cell_type": "code",
   "execution_count": 14,
   "id": "b422c2d1",
   "metadata": {},
   "outputs": [
    {
     "name": "stdout",
     "output_type": "stream",
     "text": [
      "50\n"
     ]
    }
   ],
   "source": [
    "def der(a,b):\n",
    "    \n",
    "    return a*b\n",
    "\n",
    "output = der(5,10)\n",
    "print(output)"
   ]
  },
  {
   "cell_type": "code",
   "execution_count": 1,
   "id": "da4af6b2",
   "metadata": {},
   "outputs": [
    {
     "name": "stdout",
     "output_type": "stream",
     "text": [
      "[4, 6, 8, 12, 16]\n"
     ]
    }
   ],
   "source": [
    "list1 = [2,3,4,6,8]\n",
    "list2 = [x*2 for x in list1]\n",
    "print(list2)"
   ]
  },
  {
   "cell_type": "code",
   "execution_count": 2,
   "id": "e17757b1",
   "metadata": {},
   "outputs": [
    {
     "data": {
      "text/plain": [
       "10"
      ]
     },
     "execution_count": 2,
     "metadata": {},
     "output_type": "execute_result"
    }
   ],
   "source": [
    "def multiplier(x):\n",
    "    return x*2\n",
    "\n",
    "multiplier(5)"
   ]
  },
  {
   "cell_type": "code",
   "execution_count": 3,
   "id": "1ae5c697",
   "metadata": {},
   "outputs": [
    {
     "data": {
      "text/plain": [
       "<map at 0x1742fc662c0>"
      ]
     },
     "execution_count": 3,
     "metadata": {},
     "output_type": "execute_result"
    }
   ],
   "source": [
    "map(multiplier,list1)"
   ]
  },
  {
   "cell_type": "code",
   "execution_count": 4,
   "id": "f5fcd4c2",
   "metadata": {},
   "outputs": [
    {
     "data": {
      "text/plain": [
       "[4, 6, 8, 12, 16]"
      ]
     },
     "execution_count": 4,
     "metadata": {},
     "output_type": "execute_result"
    }
   ],
   "source": [
    "list(map(multiplier,list1))"
   ]
  },
  {
   "cell_type": "code",
   "execution_count": 5,
   "id": "1532c936",
   "metadata": {},
   "outputs": [
    {
     "data": {
      "text/plain": [
       "[4, 6, 8, 12, 16]"
      ]
     },
     "execution_count": 5,
     "metadata": {},
     "output_type": "execute_result"
    }
   ],
   "source": [
    "list(map(lambda x:x*2,list1))"
   ]
  },
  {
   "cell_type": "code",
   "execution_count": 7,
   "id": "a9d2ec23",
   "metadata": {},
   "outputs": [
    {
     "data": {
      "text/plain": [
       "[6, 8]"
      ]
     },
     "execution_count": 7,
     "metadata": {},
     "output_type": "execute_result"
    }
   ],
   "source": [
    "list(filter(lambda x:x>4,list1))"
   ]
  },
  {
   "cell_type": "code",
   "execution_count": 8,
   "id": "28f89f86",
   "metadata": {},
   "outputs": [
    {
     "data": {
      "text/plain": [
       "['My', 'name', 'is', 'Ras']"
      ]
     },
     "execution_count": 8,
     "metadata": {},
     "output_type": "execute_result"
    }
   ],
   "source": [
    "name = 'My name is Ras'\n",
    "name.split()"
   ]
  },
  {
   "cell_type": "code",
   "execution_count": 18,
   "id": "56b92761",
   "metadata": {},
   "outputs": [
    {
     "name": "stdout",
     "output_type": "stream",
     "text": [
      "[1, 4, 9, 16, 25]\n",
      "[1, 4, 9]\n"
     ]
    }
   ],
   "source": [
    "mylist = [1,2,3,4,5]\n",
    "mylist2 = list(map(lambda x:x**2,mylist)) \n",
    "mylist3 = list(filter(lambda y:y<16,mylist2))\n",
    "print(mylist2)\n",
    "print(mylist3)"
   ]
  },
  {
   "cell_type": "code",
   "execution_count": null,
   "id": "097f0d4f",
   "metadata": {},
   "outputs": [],
   "source": []
  },
  {
   "cell_type": "code",
   "execution_count": null,
   "id": "16d074f2",
   "metadata": {},
   "outputs": [],
   "source": []
  }
 ],
 "metadata": {
  "kernelspec": {
   "display_name": "Python 3 (ipykernel)",
   "language": "python",
   "name": "python3"
  },
  "language_info": {
   "codemirror_mode": {
    "name": "ipython",
    "version": 3
   },
   "file_extension": ".py",
   "mimetype": "text/x-python",
   "name": "python",
   "nbconvert_exporter": "python",
   "pygments_lexer": "ipython3",
   "version": "3.11.4"
  }
 },
 "nbformat": 4,
 "nbformat_minor": 5
}
