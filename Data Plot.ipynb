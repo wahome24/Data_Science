{
 "cells": [
  {
   "cell_type": "code",
   "execution_count": 2,
   "id": "d7f07d3c",
   "metadata": {},
   "outputs": [],
   "source": [
    "import pandas as pd\n",
    "import matplotlib.pyplot as plt "
   ]
  },
  {
   "cell_type": "code",
   "execution_count": 3,
   "id": "415b970a",
   "metadata": {},
   "outputs": [],
   "source": [
    "data = pd.read_csv(r\"C:\\Users\\USER\\Desktop\\DATA\\Electric_Vehicle_Population_Data.csv\")"
   ]
  },
  {
   "cell_type": "code",
   "execution_count": 4,
   "id": "ea122580",
   "metadata": {},
   "outputs": [
    {
     "data": {
      "text/plain": [
       "pandas.core.frame.DataFrame"
      ]
     },
     "execution_count": 4,
     "metadata": {},
     "output_type": "execute_result"
    }
   ],
   "source": [
    "type(data)"
   ]
  },
  {
   "cell_type": "code",
   "execution_count": 5,
   "id": "8f253c99",
   "metadata": {},
   "outputs": [
    {
     "data": {
      "text/html": [
       "<div>\n",
       "<style scoped>\n",
       "    .dataframe tbody tr th:only-of-type {\n",
       "        vertical-align: middle;\n",
       "    }\n",
       "\n",
       "    .dataframe tbody tr th {\n",
       "        vertical-align: top;\n",
       "    }\n",
       "\n",
       "    .dataframe thead th {\n",
       "        text-align: right;\n",
       "    }\n",
       "</style>\n",
       "<table border=\"1\" class=\"dataframe\">\n",
       "  <thead>\n",
       "    <tr style=\"text-align: right;\">\n",
       "      <th></th>\n",
       "      <th>VIN (1-10)</th>\n",
       "      <th>County</th>\n",
       "      <th>City</th>\n",
       "      <th>State</th>\n",
       "      <th>Postal Code</th>\n",
       "      <th>Model Year</th>\n",
       "      <th>Make</th>\n",
       "      <th>Model</th>\n",
       "      <th>Electric Vehicle Type</th>\n",
       "      <th>Clean Alternative Fuel Vehicle (CAFV) Eligibility</th>\n",
       "      <th>Electric Range</th>\n",
       "      <th>Base MSRP</th>\n",
       "      <th>Legislative District</th>\n",
       "      <th>DOL Vehicle ID</th>\n",
       "      <th>Vehicle Location</th>\n",
       "      <th>Electric Utility</th>\n",
       "      <th>2020 Census Tract</th>\n",
       "    </tr>\n",
       "  </thead>\n",
       "  <tbody>\n",
       "    <tr>\n",
       "      <th>0</th>\n",
       "      <td>KM8K33AGXL</td>\n",
       "      <td>King</td>\n",
       "      <td>Seattle</td>\n",
       "      <td>WA</td>\n",
       "      <td>98103.0</td>\n",
       "      <td>2020</td>\n",
       "      <td>HYUNDAI</td>\n",
       "      <td>KONA</td>\n",
       "      <td>Battery Electric Vehicle (BEV)</td>\n",
       "      <td>Clean Alternative Fuel Vehicle Eligible</td>\n",
       "      <td>258</td>\n",
       "      <td>0</td>\n",
       "      <td>43.0</td>\n",
       "      <td>249675142</td>\n",
       "      <td>POINT (-122.34301 47.659185)</td>\n",
       "      <td>CITY OF SEATTLE - (WA)|CITY OF TACOMA - (WA)</td>\n",
       "      <td>5.303300e+10</td>\n",
       "    </tr>\n",
       "    <tr>\n",
       "      <th>1</th>\n",
       "      <td>1C4RJYB61N</td>\n",
       "      <td>King</td>\n",
       "      <td>Bothell</td>\n",
       "      <td>WA</td>\n",
       "      <td>98011.0</td>\n",
       "      <td>2022</td>\n",
       "      <td>JEEP</td>\n",
       "      <td>GRAND CHEROKEE</td>\n",
       "      <td>Plug-in Hybrid Electric Vehicle (PHEV)</td>\n",
       "      <td>Not eligible due to low battery range</td>\n",
       "      <td>25</td>\n",
       "      <td>0</td>\n",
       "      <td>1.0</td>\n",
       "      <td>233928502</td>\n",
       "      <td>POINT (-122.20578 47.762405)</td>\n",
       "      <td>PUGET SOUND ENERGY INC||CITY OF TACOMA - (WA)</td>\n",
       "      <td>5.303302e+10</td>\n",
       "    </tr>\n",
       "  </tbody>\n",
       "</table>\n",
       "</div>"
      ],
      "text/plain": [
       "   VIN (1-10) County     City State  Postal Code  Model Year     Make  \\\n",
       "0  KM8K33AGXL   King  Seattle    WA      98103.0        2020  HYUNDAI   \n",
       "1  1C4RJYB61N   King  Bothell    WA      98011.0        2022     JEEP   \n",
       "\n",
       "            Model                   Electric Vehicle Type  \\\n",
       "0            KONA          Battery Electric Vehicle (BEV)   \n",
       "1  GRAND CHEROKEE  Plug-in Hybrid Electric Vehicle (PHEV)   \n",
       "\n",
       "  Clean Alternative Fuel Vehicle (CAFV) Eligibility  Electric Range  \\\n",
       "0           Clean Alternative Fuel Vehicle Eligible             258   \n",
       "1             Not eligible due to low battery range              25   \n",
       "\n",
       "   Base MSRP  Legislative District  DOL Vehicle ID  \\\n",
       "0          0                  43.0       249675142   \n",
       "1          0                   1.0       233928502   \n",
       "\n",
       "               Vehicle Location  \\\n",
       "0  POINT (-122.34301 47.659185)   \n",
       "1  POINT (-122.20578 47.762405)   \n",
       "\n",
       "                                Electric Utility  2020 Census Tract  \n",
       "0   CITY OF SEATTLE - (WA)|CITY OF TACOMA - (WA)       5.303300e+10  \n",
       "1  PUGET SOUND ENERGY INC||CITY OF TACOMA - (WA)       5.303302e+10  "
      ]
     },
     "execution_count": 5,
     "metadata": {},
     "output_type": "execute_result"
    }
   ],
   "source": [
    "data.head(2)"
   ]
  },
  {
   "cell_type": "code",
   "execution_count": 6,
   "id": "969a6f18",
   "metadata": {},
   "outputs": [
    {
     "data": {
      "text/plain": [
       "Index(['VIN (1-10)', 'County', 'City', 'State', 'Postal Code', 'Model Year',\n",
       "       'Make', 'Model', 'Electric Vehicle Type',\n",
       "       'Clean Alternative Fuel Vehicle (CAFV) Eligibility', 'Electric Range',\n",
       "       'Base MSRP', 'Legislative District', 'DOL Vehicle ID',\n",
       "       'Vehicle Location', 'Electric Utility', '2020 Census Tract'],\n",
       "      dtype='object')"
      ]
     },
     "execution_count": 6,
     "metadata": {},
     "output_type": "execute_result"
    }
   ],
   "source": [
    "data.columns"
   ]
  },
  {
   "cell_type": "code",
   "execution_count": 7,
   "id": "8e764ebd",
   "metadata": {},
   "outputs": [
    {
     "data": {
      "text/plain": [
       "array([2020, 2022, 2023, 2018, 2017, 2016, 2019, 2013, 2015, 2014, 2021,\n",
       "       2011, 2012, 2024, 2010, 2008, 2002, 2000, 1998, 2003, 1999, 1997],\n",
       "      dtype=int64)"
      ]
     },
     "execution_count": 7,
     "metadata": {},
     "output_type": "execute_result"
    }
   ],
   "source": [
    "pd.unique(data['Model Year'])"
   ]
  },
  {
   "cell_type": "code",
   "execution_count": 8,
   "id": "b7815141",
   "metadata": {},
   "outputs": [
    {
     "data": {
      "text/plain": [
       "array(['HYUNDAI', 'JEEP', 'TESLA', 'BMW', 'CHRYSLER', 'FORD', 'TOYOTA',\n",
       "       'AUDI', 'NISSAN', 'KIA', 'CHEVROLET', 'VOLKSWAGEN', 'FIAT', 'MINI',\n",
       "       'SMART', 'RIVIAN', 'VOLVO', 'PORSCHE', 'HONDA', 'MITSUBISHI',\n",
       "       'SUBARU', 'POLESTAR', 'MERCEDES-BENZ', 'CADILLAC', 'JAGUAR',\n",
       "       'LINCOLN', 'GENESIS', 'LUCID', 'LEXUS', 'FISKER', 'MAZDA',\n",
       "       'LAND ROVER', 'TH!NK', 'AZURE DYNAMICS', 'ALFA ROMEO',\n",
       "       'WHEEGO ELECTRIC CARS', 'BENTLEY'], dtype=object)"
      ]
     },
     "execution_count": 8,
     "metadata": {},
     "output_type": "execute_result"
    }
   ],
   "source": [
    "pd.unique(data['Make'])"
   ]
  },
  {
   "cell_type": "code",
   "execution_count": 21,
   "id": "3c5c5557",
   "metadata": {},
   "outputs": [],
   "source": [
    "dp=data.groupby('Model Year')['Electric Vehicle Type'].count()"
   ]
  },
  {
   "cell_type": "code",
   "execution_count": 22,
   "id": "355bd59a",
   "metadata": {},
   "outputs": [
    {
     "data": {
      "text/plain": [
       "<Axes: xlabel='Model Year', ylabel='Count of Electric Vehicles'>"
      ]
     },
     "execution_count": 22,
     "metadata": {},
     "output_type": "execute_result"
    },
    {
     "data": {
      "image/png": "[encoded data removed]",
      "text/plain": [
       "<Figure size 640x480 with 1 Axes>"
      ]
     },
     "metadata": {},
     "output_type": "display_data"
    }
   ],
   "source": [
    "dp.plot(kind='bar',ylabel='Count of Electric Vehicles')"
   ]
  },
  {
   "cell_type": "code",
   "execution_count": 12,
   "id": "351095d1",
   "metadata": {},
   "outputs": [],
   "source": [
    "dp2 = data.groupby(['Model Year'])['Electric Vehicle Type'].count()"
   ]
  },
  {
   "cell_type": "code",
   "execution_count": 13,
   "id": "864e2f83",
   "metadata": {},
   "outputs": [
    {
     "data": {
      "text/plain": [
       "[<matplotlib.lines.Line2D at 0x2207c625dd0>]"
      ]
     },
     "execution_count": 13,
     "metadata": {},
     "output_type": "execute_result"
    },
    {
     "data": {
      "image/png": "[encoded data removed]",
      "text/plain": [
       "<Figure size 640x480 with 1 Axes>"
      ]
     },
     "metadata": {},
     "output_type": "display_data"
    }
   ],
   "source": [
    "#Line Graph showing the production of electric vehicles over the years.\n",
    "plt.plot(dp2)"
   ]
  },
  {
   "cell_type": "code",
   "execution_count": 23,
   "id": "90770fde",
   "metadata": {},
   "outputs": [
    {
     "data": {
      "text/plain": [
       "Make\n",
       "ALFA ROMEO                 12\n",
       "AUDI                     3006\n",
       "AZURE DYNAMICS              9\n",
       "BENTLEY                     2\n",
       "BMW                      6439\n",
       "CADILLAC                  176\n",
       "CHEVROLET               12026\n",
       "CHRYSLER                 2642\n",
       "FIAT                      806\n",
       "FISKER                     17\n",
       "FORD                     7614\n",
       "GENESIS                   107\n",
       "HONDA                     810\n",
       "HYUNDAI                  3171\n",
       "JAGUAR                    228\n",
       "JEEP                     3292\n",
       "KIA                      6198\n",
       "LAND ROVER                 47\n",
       "LEXUS                     138\n",
       "LINCOLN                   229\n",
       "LUCID                     190\n",
       "MAZDA                     136\n",
       "MERCEDES-BENZ            1054\n",
       "MINI                      791\n",
       "MITSUBISHI                849\n",
       "NISSAN                  13497\n",
       "POLESTAR                  764\n",
       "PORSCHE                  1028\n",
       "RIVIAN                   2483\n",
       "SMART                     274\n",
       "SUBARU                    623\n",
       "TESLA                   68983\n",
       "TH!NK                       5\n",
       "TOYOTA                   5223\n",
       "VOLKSWAGEN               4074\n",
       "VOLVO                    3536\n",
       "WHEEGO ELECTRIC CARS        3\n",
       "Name: Electric Vehicle Type, dtype: int64"
      ]
     },
     "execution_count": 23,
     "metadata": {},
     "output_type": "execute_result"
    }
   ],
   "source": [
    "data.groupby('Make')['Electric Vehicle Type'].count()"
   ]
  },
  {
   "cell_type": "code",
   "execution_count": null,
   "id": "70f25ecf",
   "metadata": {},
   "outputs": [],
   "source": []
  },
  {
   "cell_type": "code",
   "execution_count": null,
   "id": "5e0405ce",
   "metadata": {},
   "outputs": [],
   "source": []
  },
  {
   "cell_type": "code",
   "execution_count": null,
   "id": "1c1c37cc",
   "metadata": {},
   "outputs": [],
   "source": []
  },
  {
   "cell_type": "code",
   "execution_count": null,
   "id": "57c16f97",
   "metadata": {},
   "outputs": [],
   "source": []
  },
  {
   "cell_type": "code",
   "execution_count": null,
   "id": "a1d1db08",
   "metadata": {},
   "outputs": [],
   "source": []
  }
 ],
 "metadata": {
  "kernelspec": {
   "display_name": "Python 3 (ipykernel)",
   "language": "python",
   "name": "python3"
  },
  "language_info": {
   "codemirror_mode": {
    "name": "ipython",
    "version": 3
   },
   "file_extension": ".py",
   "mimetype": "text/x-python",
   "name": "python",
   "nbconvert_exporter": "python",
   "pygments_lexer": "ipython3",
   "version": "3.11.4"
  }
 },
 "nbformat": 4,
 "nbformat_minor": 5
}
